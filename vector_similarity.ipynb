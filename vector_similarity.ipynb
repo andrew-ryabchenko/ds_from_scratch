{
 "metadata": {
  "language_info": {
   "codemirror_mode": {
    "name": "ipython",
    "version": 3
   },
   "file_extension": ".py",
   "mimetype": "text/x-python",
   "name": "python",
   "nbconvert_exporter": "python",
   "pygments_lexer": "ipython3",
   "version": "3.8.6-final"
  },
  "orig_nbformat": 2,
  "kernelspec": {
   "name": "python3",
   "display_name": "Python 3"
  }
 },
 "nbformat": 4,
 "nbformat_minor": 2,
 "cells": [
  {
   "cell_type": "code",
   "execution_count": 353,
   "metadata": {},
   "outputs": [],
   "source": [
    "import seaborn as sns\n",
    "import numpy as np\n",
    "import pandas as pd\n",
    "from category_encoders import OrdinalEncoder\n",
    "from sklearn.model_selection import train_test_split\n",
    "from sklearn.metrics import plot_confusion_matrix, accuracy_score\n",
    "from sklearn.tree import DecisionTreeClassifier\n",
    "\n",
    "data = sns.load_dataset('penguins')\n",
    "data.dropna(inplace=True)\n"
   ]
  },
  {
   "cell_type": "code",
   "execution_count": 354,
   "metadata": {},
   "outputs": [],
   "source": [
    "# Encode categorical features with OrdinalEncoder\n",
    "enc = OrdinalEncoder()\n",
    "data = enc.fit_transform(data)"
   ]
  },
  {
   "cell_type": "code",
   "execution_count": 355,
   "metadata": {},
   "outputs": [],
   "source": [
    "# Define target and features\n",
    "X = data.drop(columns=['species'])\n",
    "y = data['species']"
   ]
  },
  {
   "cell_type": "code",
   "execution_count": 356,
   "metadata": {},
   "outputs": [
    {
     "output_type": "execute_result",
     "data": {
      "text/plain": [
       "     island  bill_length_mm  bill_depth_mm  flipper_length_mm  body_mass_g  \\\n",
       "0         1            39.1           18.7              181.0       3750.0   \n",
       "1         1            39.5           17.4              186.0       3800.0   \n",
       "2         1            40.3           18.0              195.0       3250.0   \n",
       "4         1            36.7           19.3              193.0       3450.0   \n",
       "5         1            39.3           20.6              190.0       3650.0   \n",
       "..      ...             ...            ...                ...          ...   \n",
       "338       2            47.2           13.7              214.0       4925.0   \n",
       "340       2            46.8           14.3              215.0       4850.0   \n",
       "341       2            50.4           15.7              222.0       5750.0   \n",
       "342       2            45.2           14.8              212.0       5200.0   \n",
       "343       2            49.9           16.1              213.0       5400.0   \n",
       "\n",
       "     sex  \n",
       "0      1  \n",
       "1      2  \n",
       "2      2  \n",
       "4      2  \n",
       "5      1  \n",
       "..   ...  \n",
       "338    2  \n",
       "340    2  \n",
       "341    1  \n",
       "342    2  \n",
       "343    1  \n",
       "\n",
       "[333 rows x 6 columns]"
      ],
      "text/html": "<div>\n<style scoped>\n    .dataframe tbody tr th:only-of-type {\n        vertical-align: middle;\n    }\n\n    .dataframe tbody tr th {\n        vertical-align: top;\n    }\n\n    .dataframe thead th {\n        text-align: right;\n    }\n</style>\n<table border=\"1\" class=\"dataframe\">\n  <thead>\n    <tr style=\"text-align: right;\">\n      <th></th>\n      <th>island</th>\n      <th>bill_length_mm</th>\n      <th>bill_depth_mm</th>\n      <th>flipper_length_mm</th>\n      <th>body_mass_g</th>\n      <th>sex</th>\n    </tr>\n  </thead>\n  <tbody>\n    <tr>\n      <th>0</th>\n      <td>1</td>\n      <td>39.1</td>\n      <td>18.7</td>\n      <td>181.0</td>\n      <td>3750.0</td>\n      <td>1</td>\n    </tr>\n    <tr>\n      <th>1</th>\n      <td>1</td>\n      <td>39.5</td>\n      <td>17.4</td>\n      <td>186.0</td>\n      <td>3800.0</td>\n      <td>2</td>\n    </tr>\n    <tr>\n      <th>2</th>\n      <td>1</td>\n      <td>40.3</td>\n      <td>18.0</td>\n      <td>195.0</td>\n      <td>3250.0</td>\n      <td>2</td>\n    </tr>\n    <tr>\n      <th>4</th>\n      <td>1</td>\n      <td>36.7</td>\n      <td>19.3</td>\n      <td>193.0</td>\n      <td>3450.0</td>\n      <td>2</td>\n    </tr>\n    <tr>\n      <th>5</th>\n      <td>1</td>\n      <td>39.3</td>\n      <td>20.6</td>\n      <td>190.0</td>\n      <td>3650.0</td>\n      <td>1</td>\n    </tr>\n    <tr>\n      <th>...</th>\n      <td>...</td>\n      <td>...</td>\n      <td>...</td>\n      <td>...</td>\n      <td>...</td>\n      <td>...</td>\n    </tr>\n    <tr>\n      <th>338</th>\n      <td>2</td>\n      <td>47.2</td>\n      <td>13.7</td>\n      <td>214.0</td>\n      <td>4925.0</td>\n      <td>2</td>\n    </tr>\n    <tr>\n      <th>340</th>\n      <td>2</td>\n      <td>46.8</td>\n      <td>14.3</td>\n      <td>215.0</td>\n      <td>4850.0</td>\n      <td>2</td>\n    </tr>\n    <tr>\n      <th>341</th>\n      <td>2</td>\n      <td>50.4</td>\n      <td>15.7</td>\n      <td>222.0</td>\n      <td>5750.0</td>\n      <td>1</td>\n    </tr>\n    <tr>\n      <th>342</th>\n      <td>2</td>\n      <td>45.2</td>\n      <td>14.8</td>\n      <td>212.0</td>\n      <td>5200.0</td>\n      <td>2</td>\n    </tr>\n    <tr>\n      <th>343</th>\n      <td>2</td>\n      <td>49.9</td>\n      <td>16.1</td>\n      <td>213.0</td>\n      <td>5400.0</td>\n      <td>1</td>\n    </tr>\n  </tbody>\n</table>\n<p>333 rows × 6 columns</p>\n</div>"
     },
     "metadata": {},
     "execution_count": 356
    }
   ],
   "source": [
    "X"
   ]
  },
  {
   "cell_type": "code",
   "execution_count": 357,
   "metadata": {},
   "outputs": [],
   "source": [
    "# Build model that does vector comparison and outputs index of the most similar vector\n",
    "def similar_vector(X,v):\n",
    "    X = np.array(X)\n",
    "    v = np.array(v)\n",
    "    result=[]\n",
    "\n",
    "    for vector in X:\n",
    "        distance = sum((vector - v)**2)**(1/2)\n",
    "        result.append(distance)\n",
    "    result = list(enumerate(result))\n",
    "    similar = sorted(result, key=lambda i: i[1])[0][0]\n",
    "\n",
    "    return similar"
   ]
  },
  {
   "cell_type": "code",
   "execution_count": 358,
   "metadata": {},
   "outputs": [],
   "source": [
    "d = similar_vector(X, X.iloc[115])"
   ]
  },
  {
   "cell_type": "code",
   "execution_count": 359,
   "metadata": {},
   "outputs": [],
   "source": [
    "# Create train test split\n",
    "X_train, X_test, y_train, y_test = train_test_split(X,y)"
   ]
  },
  {
   "cell_type": "code",
   "execution_count": 360,
   "metadata": {},
   "outputs": [],
   "source": [
    "predictions = np.array([y_train.iloc[similar_vector(X_train, v)] for v in np.array(X_test)])"
   ]
  },
  {
   "cell_type": "code",
   "execution_count": 361,
   "metadata": {},
   "outputs": [],
   "source": [
    "actual = np.array(y_test)"
   ]
  },
  {
   "cell_type": "code",
   "execution_count": 362,
   "metadata": {},
   "outputs": [
    {
     "output_type": "execute_result",
     "data": {
      "text/plain": [
       "array([2, 1, 1, 3, 3, 2, 3, 3, 2, 3, 1, 1, 1, 1, 2, 3, 1, 1, 1, 3, 1, 2,\n",
       "       3, 3, 2, 1, 3, 3, 3, 2, 3, 1, 3, 1, 3, 3, 1, 2, 1, 1, 3, 2, 3, 3,\n",
       "       1, 3, 2, 3, 3, 2, 2, 1, 1, 3, 1, 1, 2, 1, 3, 1, 2, 1, 2, 3, 1, 1,\n",
       "       3, 3, 1, 1, 1, 1, 1, 3, 3, 1, 1, 1, 3, 1, 3, 3, 1, 3])"
      ]
     },
     "metadata": {},
     "execution_count": 362
    }
   ],
   "source": [
    "predictions"
   ]
  },
  {
   "cell_type": "code",
   "execution_count": 363,
   "metadata": {},
   "outputs": [
    {
     "output_type": "execute_result",
     "data": {
      "text/plain": [
       "array([2, 1, 1, 3, 3, 2, 3, 3, 2, 3, 3, 1, 1, 1, 2, 3, 1, 1, 2, 3, 2, 2,\n",
       "       3, 1, 1, 1, 3, 3, 3, 2, 3, 1, 3, 1, 3, 2, 1, 2, 1, 1, 3, 1, 3, 3,\n",
       "       1, 3, 1, 3, 3, 1, 2, 1, 1, 3, 2, 1, 2, 1, 3, 1, 2, 1, 2, 2, 2, 2,\n",
       "       2, 3, 1, 1, 1, 1, 1, 3, 3, 2, 1, 1, 3, 1, 3, 3, 1, 3])"
      ]
     },
     "metadata": {},
     "execution_count": 363
    }
   ],
   "source": [
    "actual"
   ]
  },
  {
   "cell_type": "code",
   "execution_count": 364,
   "metadata": {},
   "outputs": [
    {
     "output_type": "execute_result",
     "data": {
      "text/plain": [
       "0.8214285714285714"
      ]
     },
     "metadata": {},
     "execution_count": 364
    }
   ],
   "source": [
    "# My model accuracy score\n",
    "accuracy_score(actual, predictions)\n"
   ]
  },
  {
   "cell_type": "code",
   "execution_count": 365,
   "metadata": {},
   "outputs": [],
   "source": [
    "\n",
    "model = DecisionTreeClassifier().fit(X_train, y_train)"
   ]
  },
  {
   "cell_type": "code",
   "execution_count": 366,
   "metadata": {},
   "outputs": [
    {
     "output_type": "execute_result",
     "data": {
      "text/plain": [
       "0.9880952380952381"
      ]
     },
     "metadata": {},
     "execution_count": 366
    }
   ],
   "source": [
    "model.score(X_test, y_test)"
   ]
  }
 ]
}